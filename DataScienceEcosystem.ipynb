{
 "cells": [
  {
   "cell_type": "markdown",
   "id": "6c1d20ce-6683-4b9e-a504-bda7bf37613c",
   "metadata": {},
   "source": [
    "# Data Science Tools and Ecosystem\n",
    "\n",
    "In this notebook, Data Science Tools and Ecosystem are summarized."
   ]
  },
  {
   "cell_type": "markdown",
   "id": "0a0a9779-1d60-4686-88dd-891a4885c8f5",
   "metadata": {},
   "source": [
    "Some of the popular languages that Data Scientists use are:\n",
    "\n",
    "1. R\n",
    "2. Python\n",
    "3. Scala\n",
    "\n",
    "Some of the commonly used libraries used by Data Scientists include:"
   ]
  },
  {
   "cell_type": "markdown",
   "id": "67aef682-f0cc-4375-bc76-df5a1769dca9",
   "metadata": {},
   "source": [
    "1. ggplot (R)\n",
    "2. pandas (Python)\n",
    "3. dplyr (R)"
   ]
  },
  {
   "cell_type": "markdown",
   "id": "703efa16-1cfe-434f-8eb1-2ec20120414d",
   "metadata": {},
   "source": [
    "Here is a table of data science tools\n",
    "\n",
    "| Data Science Tools |\n",
    "|--------------------|\n",
    "| Git |\n",
    "| RStudio |\n",
    "| GitHub |\n",
    "| GitLab |\n",
    "\n",
    "### Below are a few examples of evaluating arithmetic expressions in Python"
   ]
  },
  {
   "cell_type": "markdown",
   "id": "81a31621-e46c-43d5-9e7a-beffe2e6575e",
   "metadata": {},
   "source": [
    "**Objectives**\n",
    "\n",
    "+ Create simple commands in Python\n",
    "+ Learn simple commands in R\n",
    "+ Create a GitHub repository"
   ]
  },
  {
   "cell_type": "code",
   "execution_count": 5,
   "id": "2b75add1-b816-46e4-a22a-b333c19b46d3",
   "metadata": {
    "tags": []
   },
   "outputs": [
    {
     "data": {
      "text/plain": [
       "17"
      ]
     },
     "execution_count": 5,
     "metadata": {},
     "output_type": "execute_result"
    }
   ],
   "source": [
    "# This a simple arithmetic expression to mutiply then add integers\n",
    "\n",
    "(3*4)+5"
   ]
  },
  {
   "cell_type": "code",
   "execution_count": 6,
   "id": "d0c57192-dab7-4e5b-962d-7f1dc6f51c3a",
   "metadata": {
    "tags": []
   },
   "outputs": [
    {
     "data": {
      "text/plain": [
       "3.3333333333333335"
      ]
     },
     "execution_count": 6,
     "metadata": {},
     "output_type": "execute_result"
    }
   ],
   "source": [
    "# In this code cell write an expression that converts 200 minutes into hours.\n",
    "# Insert a comment line before the expression to explain the operation e.g.  This will convert 200 minutes to hours by diving by 60.\n",
    "# Run the cell to evaluate the expression.\n",
    "\n",
    "200/60"
   ]
  },
  {
   "cell_type": "markdown",
   "id": "90e1d8e4-04bc-4600-9d8b-d01697192900",
   "metadata": {},
   "source": [
    "## Author\n",
    "\n",
    "Tobias K. Boehm"
   ]
  },
  {
   "cell_type": "code",
   "execution_count": null,
   "id": "e9449f4a-ee5c-4267-b708-a6cd23be874f",
   "metadata": {},
   "outputs": [],
   "source": []
  }
 ],
 "metadata": {
  "kernelspec": {
   "display_name": "Python",
   "language": "python",
   "name": "conda-env-python-py"
  },
  "language_info": {
   "codemirror_mode": {
    "name": "ipython",
    "version": 3
   },
   "file_extension": ".py",
   "mimetype": "text/x-python",
   "name": "python",
   "nbconvert_exporter": "python",
   "pygments_lexer": "ipython3",
   "version": "3.7.12"
  }
 },
 "nbformat": 4,
 "nbformat_minor": 5
}
